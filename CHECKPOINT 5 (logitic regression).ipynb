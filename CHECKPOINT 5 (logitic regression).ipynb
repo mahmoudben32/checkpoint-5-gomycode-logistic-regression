{
 "cells": [
  {
   "cell_type": "markdown",
   "id": "c603a24b",
   "metadata": {},
   "source": [
    "# import labraries and reading the data set"
   ]
  },
  {
   "cell_type": "code",
   "execution_count": 1,
   "id": "7e5bbc1c",
   "metadata": {},
   "outputs": [
    {
     "data": {
      "text/html": [
       "<div>\n",
       "<style scoped>\n",
       "    .dataframe tbody tr th:only-of-type {\n",
       "        vertical-align: middle;\n",
       "    }\n",
       "\n",
       "    .dataframe tbody tr th {\n",
       "        vertical-align: top;\n",
       "    }\n",
       "\n",
       "    .dataframe thead th {\n",
       "        text-align: right;\n",
       "    }\n",
       "</style>\n",
       "<table border=\"1\" class=\"dataframe\">\n",
       "  <thead>\n",
       "    <tr style=\"text-align: right;\">\n",
       "      <th></th>\n",
       "      <th>PassengerId</th>\n",
       "      <th>Survived</th>\n",
       "      <th>Pclass</th>\n",
       "      <th>Name</th>\n",
       "      <th>Sex</th>\n",
       "      <th>Age</th>\n",
       "      <th>SibSp</th>\n",
       "      <th>Parch</th>\n",
       "      <th>Ticket</th>\n",
       "      <th>Fare</th>\n",
       "      <th>Cabin</th>\n",
       "      <th>Embarked</th>\n",
       "    </tr>\n",
       "  </thead>\n",
       "  <tbody>\n",
       "    <tr>\n",
       "      <th>0</th>\n",
       "      <td>343</td>\n",
       "      <td>No</td>\n",
       "      <td>2</td>\n",
       "      <td>Collander, Mr. Erik Gustaf</td>\n",
       "      <td>male</td>\n",
       "      <td>28.0</td>\n",
       "      <td>0</td>\n",
       "      <td>0</td>\n",
       "      <td>248740</td>\n",
       "      <td>13.0000</td>\n",
       "      <td>NaN</td>\n",
       "      <td>S</td>\n",
       "    </tr>\n",
       "    <tr>\n",
       "      <th>1</th>\n",
       "      <td>76</td>\n",
       "      <td>No</td>\n",
       "      <td>3</td>\n",
       "      <td>Moen, Mr. Sigurd Hansen</td>\n",
       "      <td>male</td>\n",
       "      <td>25.0</td>\n",
       "      <td>0</td>\n",
       "      <td>0</td>\n",
       "      <td>348123</td>\n",
       "      <td>7.6500</td>\n",
       "      <td>F G73</td>\n",
       "      <td>S</td>\n",
       "    </tr>\n",
       "    <tr>\n",
       "      <th>2</th>\n",
       "      <td>641</td>\n",
       "      <td>No</td>\n",
       "      <td>3</td>\n",
       "      <td>Jensen, Mr. Hans Peder</td>\n",
       "      <td>male</td>\n",
       "      <td>20.0</td>\n",
       "      <td>0</td>\n",
       "      <td>0</td>\n",
       "      <td>350050</td>\n",
       "      <td>7.8542</td>\n",
       "      <td>NaN</td>\n",
       "      <td>S</td>\n",
       "    </tr>\n",
       "    <tr>\n",
       "      <th>3</th>\n",
       "      <td>568</td>\n",
       "      <td>No</td>\n",
       "      <td>3</td>\n",
       "      <td>Palsson, Mrs. Nils (Alma Cornelia Berglund)</td>\n",
       "      <td>female</td>\n",
       "      <td>29.0</td>\n",
       "      <td>0</td>\n",
       "      <td>4</td>\n",
       "      <td>349909</td>\n",
       "      <td>21.0750</td>\n",
       "      <td>NaN</td>\n",
       "      <td>S</td>\n",
       "    </tr>\n",
       "    <tr>\n",
       "      <th>4</th>\n",
       "      <td>672</td>\n",
       "      <td>No</td>\n",
       "      <td>1</td>\n",
       "      <td>Davidson, Mr. Thornton</td>\n",
       "      <td>male</td>\n",
       "      <td>31.0</td>\n",
       "      <td>1</td>\n",
       "      <td>0</td>\n",
       "      <td>F.C. 12750</td>\n",
       "      <td>52.0000</td>\n",
       "      <td>B71</td>\n",
       "      <td>S</td>\n",
       "    </tr>\n",
       "    <tr>\n",
       "      <th>...</th>\n",
       "      <td>...</td>\n",
       "      <td>...</td>\n",
       "      <td>...</td>\n",
       "      <td>...</td>\n",
       "      <td>...</td>\n",
       "      <td>...</td>\n",
       "      <td>...</td>\n",
       "      <td>...</td>\n",
       "      <td>...</td>\n",
       "      <td>...</td>\n",
       "      <td>...</td>\n",
       "      <td>...</td>\n",
       "    </tr>\n",
       "    <tr>\n",
       "      <th>886</th>\n",
       "      <td>10</td>\n",
       "      <td>Yes</td>\n",
       "      <td>2</td>\n",
       "      <td>Nasser, Mrs. Nicholas (Adele Achem)</td>\n",
       "      <td>female</td>\n",
       "      <td>14.0</td>\n",
       "      <td>1</td>\n",
       "      <td>0</td>\n",
       "      <td>237736</td>\n",
       "      <td>30.0708</td>\n",
       "      <td>NaN</td>\n",
       "      <td>C</td>\n",
       "    </tr>\n",
       "    <tr>\n",
       "      <th>887</th>\n",
       "      <td>61</td>\n",
       "      <td>No</td>\n",
       "      <td>3</td>\n",
       "      <td>Sirayanian, Mr. Orsen</td>\n",
       "      <td>male</td>\n",
       "      <td>22.0</td>\n",
       "      <td>0</td>\n",
       "      <td>0</td>\n",
       "      <td>2669</td>\n",
       "      <td>7.2292</td>\n",
       "      <td>NaN</td>\n",
       "      <td>C</td>\n",
       "    </tr>\n",
       "    <tr>\n",
       "      <th>888</th>\n",
       "      <td>535</td>\n",
       "      <td>No</td>\n",
       "      <td>3</td>\n",
       "      <td>Cacic, Miss. Marija</td>\n",
       "      <td>female</td>\n",
       "      <td>30.0</td>\n",
       "      <td>0</td>\n",
       "      <td>0</td>\n",
       "      <td>315084</td>\n",
       "      <td>8.6625</td>\n",
       "      <td>NaN</td>\n",
       "      <td>S</td>\n",
       "    </tr>\n",
       "    <tr>\n",
       "      <th>889</th>\n",
       "      <td>102</td>\n",
       "      <td>No</td>\n",
       "      <td>3</td>\n",
       "      <td>Petroff, Mr. Pastcho (\"Pentcho\")</td>\n",
       "      <td>male</td>\n",
       "      <td>NaN</td>\n",
       "      <td>0</td>\n",
       "      <td>0</td>\n",
       "      <td>349215</td>\n",
       "      <td>7.8958</td>\n",
       "      <td>NaN</td>\n",
       "      <td>S</td>\n",
       "    </tr>\n",
       "    <tr>\n",
       "      <th>890</th>\n",
       "      <td>428</td>\n",
       "      <td>Yes</td>\n",
       "      <td>2</td>\n",
       "      <td>Phillips, Miss. Kate Florence (\"Mrs Kate Louis...</td>\n",
       "      <td>female</td>\n",
       "      <td>19.0</td>\n",
       "      <td>0</td>\n",
       "      <td>0</td>\n",
       "      <td>250655</td>\n",
       "      <td>26.0000</td>\n",
       "      <td>NaN</td>\n",
       "      <td>S</td>\n",
       "    </tr>\n",
       "  </tbody>\n",
       "</table>\n",
       "<p>891 rows × 12 columns</p>\n",
       "</div>"
      ],
      "text/plain": [
       "     PassengerId Survived  Pclass  \\\n",
       "0            343       No       2   \n",
       "1             76       No       3   \n",
       "2            641       No       3   \n",
       "3            568       No       3   \n",
       "4            672       No       1   \n",
       "..           ...      ...     ...   \n",
       "886           10      Yes       2   \n",
       "887           61       No       3   \n",
       "888          535       No       3   \n",
       "889          102       No       3   \n",
       "890          428      Yes       2   \n",
       "\n",
       "                                                  Name     Sex   Age  SibSp  \\\n",
       "0                           Collander, Mr. Erik Gustaf    male  28.0      0   \n",
       "1                              Moen, Mr. Sigurd Hansen    male  25.0      0   \n",
       "2                               Jensen, Mr. Hans Peder    male  20.0      0   \n",
       "3          Palsson, Mrs. Nils (Alma Cornelia Berglund)  female  29.0      0   \n",
       "4                               Davidson, Mr. Thornton    male  31.0      1   \n",
       "..                                                 ...     ...   ...    ...   \n",
       "886                Nasser, Mrs. Nicholas (Adele Achem)  female  14.0      1   \n",
       "887                              Sirayanian, Mr. Orsen    male  22.0      0   \n",
       "888                                Cacic, Miss. Marija  female  30.0      0   \n",
       "889                   Petroff, Mr. Pastcho (\"Pentcho\")    male   NaN      0   \n",
       "890  Phillips, Miss. Kate Florence (\"Mrs Kate Louis...  female  19.0      0   \n",
       "\n",
       "     Parch      Ticket     Fare  Cabin Embarked  \n",
       "0        0      248740  13.0000    NaN        S  \n",
       "1        0      348123   7.6500  F G73        S  \n",
       "2        0      350050   7.8542    NaN        S  \n",
       "3        4      349909  21.0750    NaN        S  \n",
       "4        0  F.C. 12750  52.0000    B71        S  \n",
       "..     ...         ...      ...    ...      ...  \n",
       "886      0      237736  30.0708    NaN        C  \n",
       "887      0        2669   7.2292    NaN        C  \n",
       "888      0      315084   8.6625    NaN        S  \n",
       "889      0      349215   7.8958    NaN        S  \n",
       "890      0      250655  26.0000    NaN        S  \n",
       "\n",
       "[891 rows x 12 columns]"
      ]
     },
     "execution_count": 1,
     "metadata": {},
     "output_type": "execute_result"
    }
   ],
   "source": [
    "import numpy as np\n",
    "import pandas as pd\n",
    "import matplotlib.pyplot as plt\n",
    "import seaborn as sns\n",
    "from sklearn.model_selection import train_test_split\n",
    "from sklearn.linear_model import LogisticRegression\n",
    "from sklearn import metrics\n",
    "from sklearn.metrics import classification_report\n",
    "from sklearn.feature_selection import RFE\n",
    "titanic = pd.read_csv(\"TS.csv\",sep=\";\") #i called the csv file TS for abreviation \n",
    "titanic"
   ]
  },
  {
   "cell_type": "code",
   "execution_count": 2,
   "id": "526b71fc",
   "metadata": {},
   "outputs": [
    {
     "name": "stdout",
     "output_type": "stream",
     "text": [
      "<class 'pandas.core.frame.DataFrame'>\n",
      "RangeIndex: 891 entries, 0 to 890\n",
      "Data columns (total 12 columns):\n",
      " #   Column       Non-Null Count  Dtype  \n",
      "---  ------       --------------  -----  \n",
      " 0   PassengerId  891 non-null    int64  \n",
      " 1   Survived     891 non-null    object \n",
      " 2   Pclass       891 non-null    int64  \n",
      " 3   Name         891 non-null    object \n",
      " 4   Sex          891 non-null    object \n",
      " 5   Age          714 non-null    float64\n",
      " 6   SibSp        891 non-null    int64  \n",
      " 7   Parch        891 non-null    int64  \n",
      " 8   Ticket       891 non-null    object \n",
      " 9   Fare         891 non-null    float64\n",
      " 10  Cabin        204 non-null    object \n",
      " 11  Embarked     889 non-null    object \n",
      "dtypes: float64(2), int64(4), object(6)\n",
      "memory usage: 83.7+ KB\n"
     ]
    }
   ],
   "source": [
    "titanic.info()"
   ]
  },
  {
   "cell_type": "code",
   "execution_count": 3,
   "id": "819db48e",
   "metadata": {},
   "outputs": [
    {
     "data": {
      "text/html": [
       "<div>\n",
       "<style scoped>\n",
       "    .dataframe tbody tr th:only-of-type {\n",
       "        vertical-align: middle;\n",
       "    }\n",
       "\n",
       "    .dataframe tbody tr th {\n",
       "        vertical-align: top;\n",
       "    }\n",
       "\n",
       "    .dataframe thead th {\n",
       "        text-align: right;\n",
       "    }\n",
       "</style>\n",
       "<table border=\"1\" class=\"dataframe\">\n",
       "  <thead>\n",
       "    <tr style=\"text-align: right;\">\n",
       "      <th></th>\n",
       "      <th>PassengerId</th>\n",
       "      <th>Survived</th>\n",
       "      <th>Pclass</th>\n",
       "      <th>Name</th>\n",
       "      <th>Sex</th>\n",
       "      <th>Age</th>\n",
       "      <th>SibSp</th>\n",
       "      <th>Parch</th>\n",
       "      <th>Ticket</th>\n",
       "      <th>Fare</th>\n",
       "      <th>Cabin</th>\n",
       "      <th>Embarked</th>\n",
       "    </tr>\n",
       "  </thead>\n",
       "  <tbody>\n",
       "    <tr>\n",
       "      <th>0</th>\n",
       "      <td>343</td>\n",
       "      <td>0</td>\n",
       "      <td>2</td>\n",
       "      <td>Collander, Mr. Erik Gustaf</td>\n",
       "      <td>0</td>\n",
       "      <td>28.0</td>\n",
       "      <td>0</td>\n",
       "      <td>0</td>\n",
       "      <td>248740</td>\n",
       "      <td>13.0000</td>\n",
       "      <td>NaN</td>\n",
       "      <td>S</td>\n",
       "    </tr>\n",
       "    <tr>\n",
       "      <th>1</th>\n",
       "      <td>76</td>\n",
       "      <td>0</td>\n",
       "      <td>3</td>\n",
       "      <td>Moen, Mr. Sigurd Hansen</td>\n",
       "      <td>0</td>\n",
       "      <td>25.0</td>\n",
       "      <td>0</td>\n",
       "      <td>0</td>\n",
       "      <td>348123</td>\n",
       "      <td>7.6500</td>\n",
       "      <td>F G73</td>\n",
       "      <td>S</td>\n",
       "    </tr>\n",
       "    <tr>\n",
       "      <th>2</th>\n",
       "      <td>641</td>\n",
       "      <td>0</td>\n",
       "      <td>3</td>\n",
       "      <td>Jensen, Mr. Hans Peder</td>\n",
       "      <td>0</td>\n",
       "      <td>20.0</td>\n",
       "      <td>0</td>\n",
       "      <td>0</td>\n",
       "      <td>350050</td>\n",
       "      <td>7.8542</td>\n",
       "      <td>NaN</td>\n",
       "      <td>S</td>\n",
       "    </tr>\n",
       "    <tr>\n",
       "      <th>3</th>\n",
       "      <td>568</td>\n",
       "      <td>0</td>\n",
       "      <td>3</td>\n",
       "      <td>Palsson, Mrs. Nils (Alma Cornelia Berglund)</td>\n",
       "      <td>1</td>\n",
       "      <td>29.0</td>\n",
       "      <td>0</td>\n",
       "      <td>4</td>\n",
       "      <td>349909</td>\n",
       "      <td>21.0750</td>\n",
       "      <td>NaN</td>\n",
       "      <td>S</td>\n",
       "    </tr>\n",
       "    <tr>\n",
       "      <th>4</th>\n",
       "      <td>672</td>\n",
       "      <td>0</td>\n",
       "      <td>1</td>\n",
       "      <td>Davidson, Mr. Thornton</td>\n",
       "      <td>0</td>\n",
       "      <td>31.0</td>\n",
       "      <td>1</td>\n",
       "      <td>0</td>\n",
       "      <td>F.C. 12750</td>\n",
       "      <td>52.0000</td>\n",
       "      <td>B71</td>\n",
       "      <td>S</td>\n",
       "    </tr>\n",
       "  </tbody>\n",
       "</table>\n",
       "</div>"
      ],
      "text/plain": [
       "   PassengerId  Survived  Pclass                                         Name  \\\n",
       "0          343         0       2                   Collander, Mr. Erik Gustaf   \n",
       "1           76         0       3                      Moen, Mr. Sigurd Hansen   \n",
       "2          641         0       3                       Jensen, Mr. Hans Peder   \n",
       "3          568         0       3  Palsson, Mrs. Nils (Alma Cornelia Berglund)   \n",
       "4          672         0       1                       Davidson, Mr. Thornton   \n",
       "\n",
       "   Sex   Age  SibSp  Parch      Ticket     Fare  Cabin Embarked  \n",
       "0    0  28.0      0      0      248740  13.0000    NaN        S  \n",
       "1    0  25.0      0      0      348123   7.6500  F G73        S  \n",
       "2    0  20.0      0      0      350050   7.8542    NaN        S  \n",
       "3    1  29.0      0      4      349909  21.0750    NaN        S  \n",
       "4    0  31.0      1      0  F.C. 12750  52.0000    B71        S  "
      ]
     },
     "execution_count": 3,
     "metadata": {},
     "output_type": "execute_result"
    }
   ],
   "source": [
    "titanic[\"Age\"].fillna(titanic[\"Age\"].mean(),inplace=True)\n",
    "titanic[\"Survived\"]=titanic[\"Survived\"].map({\"Yes\": 1, \"No\": 0})   \n",
    "titanic[\"Sex\"]=titanic[\"Sex\"].map({\"female\": 1, \"male\": 0}) \n",
    "titanic.head()"
   ]
  },
  {
   "cell_type": "markdown",
   "id": "10da6abd",
   "metadata": {},
   "source": [
    "# Logistics regression"
   ]
  },
  {
   "cell_type": "code",
   "execution_count": 7,
   "id": "03d595d8",
   "metadata": {},
   "outputs": [
    {
     "name": "stdout",
     "output_type": "stream",
     "text": [
      "Accuracy=0.84\n",
      "Selected features: ['Fare', 'Parch', 'SibSp', 'Sex', 'Pclass']\n"
     ]
    },
    {
     "name": "stderr",
     "output_type": "stream",
     "text": [
      "C:\\anaconda\\lib\\site-packages\\sklearn\\utils\\validation.py:70: FutureWarning: Pass n_features_to_select=8 as keyword args. From version 1.0 (renaming of 0.25) passing these as positional arguments will result in an error\n",
      "  warnings.warn(f\"Pass {args_msg} as keyword args. From version \"\n"
     ]
    }
   ],
   "source": [
    "x = titanic[['Fare','Parch','SibSp','Sex','Pclass']]\n",
    "y = titanic['Survived']\n",
    "\n",
    "# split the data to training and testing data \n",
    "x_train,x_test,y_train,y_test = train_test_split(x,y,test_size=0.25,random_state=0)  #splitting data with test size of 25%\n",
    "\n",
    "model = LogisticRegression()\n",
    "model.fit(x_train, y_train) \n",
    "\n",
    "# prdict the Y_testing & Y_training\n",
    "y_pred_test  = model.predict(x_test) \n",
    "y_pred_train=model.predict(x_train)\n",
    "\n",
    "#print the accuracy \n",
    "print(\"Accuracy={:.2f}\".format(model.score(x_test, y_test)))\n",
    "\n",
    "# create the RFE model and select 8 attributes\n",
    "rfe = RFE(model, 8)\n",
    "rfe = rfe.fit(x, y)\n",
    "# summarize the selection of the attributes\n",
    "print('Selected features: %s' % list(x.columns[rfe.support_]))"
   ]
  },
  {
   "cell_type": "code",
   "execution_count": 8,
   "id": "e89c7efe",
   "metadata": {},
   "outputs": [
    {
     "name": "stdout",
     "output_type": "stream",
     "text": [
      "Optimal number of features: 3\n",
      "Selected features: ['SibSp', 'Sex', 'Pclass']\n"
     ]
    },
    {
     "data": {
      "image/png": "[encoded data removed]",
      "text/plain": [
       "<Figure size 720x432 with 1 Axes>"
      ]
     },
     "metadata": {
      "needs_background": "light"
     },
     "output_type": "display_data"
    }
   ],
   "source": [
    "from sklearn.feature_selection import RFECV\n",
    "\n",
    "rfecv = RFECV(estimator=LogisticRegression(), step=1, cv=10, scoring='accuracy')\n",
    "rfecv.fit(x, y)\n",
    "\n",
    "print(\"Optimal number of features: %d\" % rfecv.n_features_)\n",
    "print('Selected features: %s' % list(x.columns[rfecv.support_]))\n",
    "\n",
    "# Plot number of features VS. cross-validation scores\n",
    "plt.figure(figsize=(10,6))\n",
    "plt.xlabel(\"Number of features selected\")\n",
    "plt.ylabel(\"Cross validation score (nb of correct classifications)\")\n",
    "plt.plot(range(1, len(rfecv.grid_scores_) + 1), rfecv.grid_scores_)\n",
    "plt.show()"
   ]
  },
  {
   "cell_type": "markdown",
   "id": "b8cf2c26",
   "metadata": {},
   "source": [
    "## showing the correlation between the elements of the data"
   ]
  },
  {
   "cell_type": "code",
   "execution_count": 18,
   "id": "d246e471",
   "metadata": {},
   "outputs": [
    {
     "data": {
      "image/png": "[encoded data removed]",
      "text/plain": [
       "<Figure size 576x360 with 2 Axes>"
      ]
     },
     "metadata": {
      "needs_background": "light"
     },
     "output_type": "display_data"
    }
   ],
   "source": [
    "Selected_features = ['Fare', 'Parch', 'SibSp', 'Sex', 'Pclass']\n",
    "x = x[Selected_features]\n",
    "plt.subplots(figsize=(8, 5))\n",
    "sns.heatmap(x.corr(), annot=True, cmap=\"RdYlGn\")\n",
    "plt.show()"
   ]
  },
  {
   "cell_type": "markdown",
   "id": "961b996d",
   "metadata": {},
   "source": [
    "# show the confiusion_matrix_train\n"
   ]
  },
  {
   "cell_type": "code",
   "execution_count": 25,
   "id": "98d96f76",
   "metadata": {},
   "outputs": [
    {
     "data": {
      "text/plain": [
       "<AxesSubplot:xlabel='Predicted', ylabel='Actual'>"
      ]
     },
     "execution_count": 25,
     "metadata": {},
     "output_type": "execute_result"
    },
    {
     "data": {
      "image/png": "[encoded data removed]",
      "text/plain": [
       "<Figure size 432x288 with 2 Axes>"
      ]
     },
     "metadata": {
      "needs_background": "light"
     },
     "output_type": "display_data"
    }
   ],
   "source": [
    "confusion_matrix_train = pd.crosstab(y_train, y_pred_train, rownames=['Actual'], colnames=['Predicted'])\n",
    "sns.heatmap((confusion_matrix_train/np.sum(confusion_matrix_train))*100, annot=True)"
   ]
  },
  {
   "cell_type": "markdown",
   "id": "4148f216",
   "metadata": {},
   "source": [
    "#### we see the the TP is about 80% witch is a good classification & for the TN 75% also so the model is effective\n",
    "#### the model have 25% of FP and 20% of FN wich has a small pourcentage that does not effect\n",
    "\n",
    "#### TP= the model predict that the passenger has Survived and it was right\n",
    "\n",
    "#### FP= the model predict that the passenger has Survived and it was Wrong\n",
    "#### TN= the model predict that the passenger hasn't Survived and it was right\n",
    "#### FN= the model predict that the passenger has't Survived and it was Wrong"
   ]
  },
  {
   "cell_type": "code",
   "execution_count": 27,
   "id": "6a62f6b9",
   "metadata": {
    "scrolled": false
   },
   "outputs": [
    {
     "name": "stdout",
     "output_type": "stream",
     "text": [
      "              precision    recall  f1-score   support\n",
      "\n",
      "           0       0.80      0.86      0.83       405\n",
      "           1       0.75      0.68      0.71       263\n",
      "\n",
      "    accuracy                           0.79       668\n",
      "   macro avg       0.78      0.77      0.77       668\n",
      "weighted avg       0.78      0.79      0.78       668\n",
      "\n"
     ]
    }
   ],
   "source": [
    "print(classification_report(y_train,y_pred_train))"
   ]
  },
  {
   "cell_type": "markdown",
   "id": "64a09e76",
   "metadata": {},
   "source": [
    "# show the confiusion_matrix_test\n"
   ]
  },
  {
   "cell_type": "code",
   "execution_count": 21,
   "id": "4cdb2020",
   "metadata": {},
   "outputs": [
    {
     "data": {
      "text/plain": [
       "<AxesSubplot:xlabel='Predicted', ylabel='Actual'>"
      ]
     },
     "execution_count": 21,
     "metadata": {},
     "output_type": "execute_result"
    },
    {
     "data": {
      "image/png": "[encoded data removed]",
      "text/plain": [
       "<Figure size 432x288 with 2 Axes>"
      ]
     },
     "metadata": {
      "needs_background": "light"
     },
     "output_type": "display_data"
    }
   ],
   "source": [
    "confusion_matrix_test = pd.crosstab(y_test, y_pred_test, rownames=['Actual'], colnames=['Predicted'])\n",
    "sns.heatmap((confusion_matrix_test/np.sum(confusion_matrix_test))*100, annot=True)"
   ]
  },
  {
   "cell_type": "markdown",
   "id": "dc446e51",
   "metadata": {},
   "source": [
    "#### we see the the TP is about 85% witch is a good classification & forthe TN 83% also so the model is effective\n",
    "#### the model have 17% of FP and 15% of FN wich is a small pourcentage that does not effect\n",
    "\n",
    "#### TP= the model predict that the passenger has Survived and it was right\n",
    "\n",
    "#### FP= the model predict that the passenger has Survived and it was Wrong\n",
    "#### TN= the model predict that the passenger hasn't Survived and it was right\n",
    "##### FN= the model predict that the passenger has't Survived and it was Wrong"
   ]
  },
  {
   "cell_type": "code",
   "execution_count": 22,
   "id": "1622bb77",
   "metadata": {},
   "outputs": [
    {
     "name": "stdout",
     "output_type": "stream",
     "text": [
      "              precision    recall  f1-score   support\n",
      "\n",
      "           0       0.84      0.92      0.88       144\n",
      "           1       0.83      0.68      0.75        79\n",
      "\n",
      "    accuracy                           0.84       223\n",
      "   macro avg       0.84      0.80      0.82       223\n",
      "weighted avg       0.84      0.84      0.83       223\n",
      "\n"
     ]
    }
   ],
   "source": [
    "print(classification_report(y_test,y_pred_test))"
   ]
  },
  {
   "cell_type": "markdown",
   "id": "0440b20f",
   "metadata": {},
   "source": [
    "#### Our model has precision of 2 class btw 83% - 85%\n",
    "##### Out of all the Passengers that we predicted to be ‘Survived’, we actually get 83% right\n",
    "#### Out of all the Passengers that we predicted to be ‘Not-Survived’, we actually get 85% right\n",
    "#### Out of all the passengers that got Survived, we get 92% correct\n",
    "#### Out of all the passengers that got Not-Survived, we get 70% correct"
   ]
  },
  {
   "cell_type": "markdown",
   "id": "8f2d42f3",
   "metadata": {},
   "source": [
    "# What is the AUC - ROC Curve?"
   ]
  },
  {
   "cell_type": "markdown",
   "id": "98313ac1",
   "metadata": {},
   "source": [
    "#### An ROC curve (receiver operating characteristic curve) is a graph showing the performance of a classification model at all classification thresholds. This curve plots two parameters:\n",
    "\n",
    "##### True Positive Rate\n",
    "##### False Positive Rate\n",
    "\n",
    "#### AUC stands for \"Area under the ROC Curve.\" That is, AUC measures the entire two-dimensional area underneath the entire ROC curve (think integral calculus) from (0,0) to (1,1).\n",
    "#### AUC - ROC curve is a performance measurement for the classification problems at various threshold settings.\n",
    "#### ROC is a probability curve and AUC represents the degree or measure of separability. It tells how much the model is capable of distinguishing between classes. Higher the AUC, the better the model is at predicting 0 classes as 0 and 1 classes as 1. By analogy, the Higher the AUC, the better the model is at distinguishing between patients with the disease and no disease."
   ]
  },
  {
   "cell_type": "code",
   "execution_count": 20,
   "id": "5d803f2f",
   "metadata": {},
   "outputs": [
    {
     "data": {
      "image/png": "[encoded data removed]",
      "text/plain": [
       "<Figure size 540x540 with 1 Axes>"
      ]
     },
     "metadata": {
      "needs_background": "light"
     },
     "output_type": "display_data"
    }
   ],
   "source": [
    "from sklearn.metrics import roc_curve, auc\n",
    "from sklearn.pipeline import make_pipeline\n",
    "from sklearn.preprocessing import StandardScaler\n",
    "pipeline = make_pipeline(StandardScaler(), LogisticRegression(random_state=1))\n",
    "#Create training test splits using all features\n",
    "#\n",
    "pipeline.fit(x_train,y_train)\n",
    "probs = pipeline.predict_proba(x_test)\n",
    "fpr, tpr, thresholds = roc_curve(y_test, probs[:, 1], pos_label=1)\n",
    "roc_auc = auc(fpr, tpr)\n",
    " \n",
    "fig, ax = plt.subplots(figsize=(7.5, 7.5))\n",
    "plt.plot(fpr, tpr, label='ROC Curve  (AUC = %0.2f)' % (roc_auc))\n",
    "plt.plot([0, 1], [0, 1], linestyle='--', color='red', label='Random Classifier')   \n",
    "plt.plot([0, 0, 1], [0, 1, 1], linestyle=':', color='green', label='Perfect Classifier')\n",
    "plt.xlim([-0.05, 1.05])\n",
    "plt.ylim([-0.05, 1.05])\n",
    "plt.xlabel('False positive rate')\n",
    "plt.ylabel('True positive rate')\n",
    "plt.legend(loc=\"lower right\")\n",
    "plt.show()"
   ]
  },
  {
   "cell_type": "code",
   "execution_count": null,
   "id": "b41dde17",
   "metadata": {},
   "outputs": [],
   "source": []
  }
 ],
 "metadata": {
  "kernelspec": {
   "display_name": "Python 3",
   "language": "python",
   "name": "python3"
  },
  "language_info": {
   "codemirror_mode": {
    "name": "ipython",
    "version": 3
   },
   "file_extension": ".py",
   "mimetype": "text/x-python",
   "name": "python",
   "nbconvert_exporter": "python",
   "pygments_lexer": "ipython3",
   "version": "3.8.8"
  }
 },
 "nbformat": 4,
 "nbformat_minor": 5
}
